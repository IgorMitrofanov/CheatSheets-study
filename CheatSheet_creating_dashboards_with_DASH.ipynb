{
 "cells": [
  {
   "cell_type": "code",
   "execution_count": 1,
   "id": "8f0b2276",
   "metadata": {},
   "outputs": [],
   "source": [
    "import dash\n",
    "from dash import dcc\n",
    "from dash import html\n",
    "import plotly.express as px\n",
    "import pandas as pd"
   ]
  },
  {
   "cell_type": "code",
   "execution_count": 2,
   "id": "b248f517",
   "metadata": {},
   "outputs": [],
   "source": [
    "# Load dataset using Plotly\n",
    "tips = px.data.tips()\n",
    "\n",
    "fig = px.scatter(tips, x=\"total_bill\", y=\"tip\") # Create a scatterplot"
   ]
  },
  {
   "cell_type": "code",
   "execution_count": 3,
   "id": "daea3dff",
   "metadata": {},
   "outputs": [],
   "source": [
    "app = dash.Dash(name=\"app\")\n",
    "\n",
    "# Load dataset using Plotly\n",
    "tips = px.data.tips()\n",
    "\n",
    "fig = px.scatter(tips, x=\"total_bill\", y=\"tip\")  # Create a scatterplot\n",
    "\n",
    "title = html.H1(\"Hello Dash!\")\n",
    "text_div = html.Div(\"Dash: A web application framework for your data.\")\n",
    "graph_to_display = dcc.Graph(id=\"scatter\", figure=fig)\n",
    "\n",
    "app.layout = html.Div(children=[title, text_div, graph_to_display])"
   ]
  },
  {
   "cell_type": "code",
   "execution_count": 7,
   "id": "ef5d6066",
   "metadata": {
    "scrolled": true
   },
   "outputs": [
    {
     "name": "stdout",
     "output_type": "stream",
     "text": [
      "Dash is running on http://127.0.0.1:8050/\n",
      "\n",
      "Dash is running on http://127.0.0.1:8050/\n",
      "\n",
      " * Serving Flask app \"__main__\" (lazy loading)\n",
      " * Environment: production\n",
      "\u001b[31m   WARNING: This is a development server. Do not use it in a production deployment.\u001b[0m\n",
      "\u001b[2m   Use a production WSGI server instead.\u001b[0m\n",
      " * Debug mode: off\n"
     ]
    },
    {
     "name": "stderr",
     "output_type": "stream",
     "text": [
      " * Running on http://127.0.0.1:8050/ (Press CTRL+C to quit)\n",
      "127.0.0.1 - - [28/Feb/2023 10:57:43] \"GET / HTTP/1.1\" 200 -\n",
      "127.0.0.1 - - [28/Feb/2023 10:57:43] \"GET /_dash-layout HTTP/1.1\" 200 -\n",
      "127.0.0.1 - - [28/Feb/2023 10:57:43] \"GET /_dash-dependencies HTTP/1.1\" 200 -\n",
      "127.0.0.1 - - [28/Feb/2023 10:57:43] \"GET /_dash-component-suites/dash/dcc/async-dropdown.js HTTP/1.1\" 200 -\n"
     ]
    }
   ],
   "source": [
    "app.run_server()"
   ]
  },
  {
   "cell_type": "markdown",
   "id": "1b3fd9e7",
   "metadata": {},
   "source": [
    "Вот несколько образцов этих компонентов, начиная с выпадающего списка:"
   ]
  },
  {
   "cell_type": "code",
   "execution_count": 6,
   "id": "42ac7d46",
   "metadata": {},
   "outputs": [],
   "source": [
    "app = dash.Dash(__name__)\n",
    "\n",
    "app.layout = html.Div([\n",
    "   dcc.Dropdown(\n",
    "       options=[\n",
    "           {'label': 'FC Barcelona', 'value': 'FCB'},\n",
    "           {'label': 'Real Madrid', 'value': 'RM'},\n",
    "           {'label': 'Manchester United', 'value': 'MU'}\n",
    "       ],\n",
    "       value='FCB' # The default value to display\n",
    "   )\n",
    "])"
   ]
  },
  {
   "cell_type": "code",
   "execution_count": null,
   "id": "3e422750",
   "metadata": {},
   "outputs": [],
   "source": [
    "app.run_server()"
   ]
  },
  {
   "cell_type": "markdown",
   "id": "d7c0ef52",
   "metadata": {},
   "source": [
    "Выпадающий список с мультивыбором:"
   ]
  },
  {
   "cell_type": "code",
   "execution_count": null,
   "id": "28c51fd0",
   "metadata": {},
   "outputs": [],
   "source": [
    "app = dash.Dash(__name__)\n",
    "\n",
    "app.layout = html.Div([\n",
    "   dcc.Dropdown(\n",
    "       options=[\n",
    "           {'label': 'FC Barcelona', 'value': 'FCB'},\n",
    "           {'label': 'Real Madrid', 'value': 'RM'},\n",
    "           {'label': 'Manchester United', 'value': 'MU'}\n",
    "       ],\n",
    "       multi=True,\n",
    "       value=\"FCB\"\n",
    "   )\n",
    "], style={\"width\": 200})\n",
    "\n",
    "if __name__ == '__main__':\n",
    "    app.run_server()"
   ]
  },
  {
   "cell_type": "markdown",
   "id": "22d1f4f3",
   "metadata": {},
   "source": [
    "Слайдер с помеченными точками останова:"
   ]
  },
  {
   "cell_type": "code",
   "execution_count": 8,
   "id": "aa773d1a",
   "metadata": {},
   "outputs": [
    {
     "name": "stdout",
     "output_type": "stream",
     "text": [
      "Dash is running on http://127.0.0.1:8050/\n",
      "\n",
      "Dash is running on http://127.0.0.1:8050/\n",
      "\n",
      "Dash is running on http://127.0.0.1:8050/\n",
      "\n",
      " * Serving Flask app \"__main__\" (lazy loading)\n",
      " * Environment: production\n",
      "\u001b[31m   WARNING: This is a development server. Do not use it in a production deployment.\u001b[0m\n",
      "\u001b[2m   Use a production WSGI server instead.\u001b[0m\n",
      " * Debug mode: off\n"
     ]
    },
    {
     "name": "stderr",
     "output_type": "stream",
     "text": [
      " * Running on http://127.0.0.1:8050/ (Press CTRL+C to quit)\n",
      "127.0.0.1 - - [28/Feb/2023 10:59:27] \"GET / HTTP/1.1\" 200 -\n",
      "127.0.0.1 - - [28/Feb/2023 10:59:27] \"GET /_dash-layout HTTP/1.1\" 200 -\n",
      "127.0.0.1 - - [28/Feb/2023 10:59:27] \"GET /_dash-dependencies HTTP/1.1\" 200 -\n",
      "127.0.0.1 - - [28/Feb/2023 10:59:27] \"GET /_dash-component-suites/dash/dcc/async-slider.js HTTP/1.1\" 200 -\n"
     ]
    }
   ],
   "source": [
    "app = dash.Dash(__name__)\n",
    "\n",
    "app.layout = html.Div([\n",
    "   dcc.Slider(\n",
    "       min=0,\n",
    "       max=9,\n",
    "       marks={i: 'Label{}'.format(i) for i in range(10)},\n",
    "       value=5,\n",
    "   )\n",
    "])\n",
    "\n",
    "if __name__ == '__main__':\n",
    "   app.run_server()"
   ]
  },
  {
   "cell_type": "code",
   "execution_count": 11,
   "id": "8e6ad49f",
   "metadata": {},
   "outputs": [
    {
     "name": "stdout",
     "output_type": "stream",
     "text": [
      "Dash is running on http://127.0.0.1:8050/\n",
      "\n",
      "Dash is running on http://127.0.0.1:8050/\n",
      "\n",
      "Dash is running on http://127.0.0.1:8050/\n",
      "\n",
      "Dash is running on http://127.0.0.1:8050/\n",
      "\n",
      "Dash is running on http://127.0.0.1:8050/\n",
      "\n",
      "Dash is running on http://127.0.0.1:8050/\n",
      "\n",
      " * Serving Flask app \"__main__\" (lazy loading)\n",
      " * Environment: production\n",
      "\u001b[31m   WARNING: This is a development server. Do not use it in a production deployment.\u001b[0m\n",
      "\u001b[2m   Use a production WSGI server instead.\u001b[0m\n",
      " * Debug mode: off\n"
     ]
    }
   ],
   "source": [
    "import seaborn as sns\n",
    "\n",
    "app = dash.Dash(__name__)\n",
    "\n",
    "diamonds = sns.load_dataset(\"diamonds\")\n",
    "\n",
    "scatter = px.scatter(\n",
    "   data_frame=diamonds,\n",
    "   x=\"price\",\n",
    "   y=\"carat\",\n",
    "   color=\"cut\",\n",
    "   title=\"Carat vs. Price of Diamonds\",\n",
    "   width=600,\n",
    "   height=400,\n",
    ")\n",
    "histogram = px.histogram(\n",
    "   data_frame=diamonds,\n",
    "   x=\"price\",\n",
    "   title=\"Histogram of Diamond prices\",\n",
    "   width=600,\n",
    "   height=400,\n",
    ")\n",
    "violin = px.violin(\n",
    "   data_frame=diamonds,\n",
    "   x=\"cut\",\n",
    "   y=\"price\",\n",
    "   title=\"Violin Plot of Cut vs. Price\",\n",
    "   width=600,\n",
    "   height=400,\n",
    ")\n",
    "\n",
    "left_fig = html.Div(children=dcc.Graph(figure=scatter))\n",
    "right_fig = html.Div(children=dcc.Graph(figure=histogram))\n",
    "\n",
    "upper_div = html.Div([left_fig, right_fig], style={\"display\": \"flex\"})\n",
    "central_div = html.Div(\n",
    "   children=dcc.Graph(figure=violin),\n",
    "   style={\"display\": \"flex\", \"justify-content\": \"center\"},\n",
    ")\n",
    "app.layout = html.Div([upper_div, central_div])\n",
    "\n",
    "if __name__ == \"__main__\":\n",
    "    app.run_server()"
   ]
  },
  {
   "cell_type": "markdown",
   "id": "00c1f183",
   "metadata": {},
   "source": [
    "Вот краткое описание шагов по созданию базового Dash-приложения:\n",
    "\n",
    "Создайте приложение с помощью dash.Dash и дайте ему любое название.\n",
    "\n",
    "Набросайте лейаут своих графиков в дашборде, прежде чем писать код.\n",
    "\n",
    "Создайте графики, которые войдут в ваш дашборд\n",
    "\n",
    "Создайте шаблонный лейаут с помощью HTML-компонентов Dash\n",
    "\n",
    "Добавьте свои изображеня в соответствующие контейнеры\n",
    "\n",
    "Наконец, добавьте все HTML-компоненты к атрибуту лейаута"
   ]
  },
  {
   "cell_type": "code",
   "execution_count": null,
   "id": "137dc906",
   "metadata": {},
   "outputs": [],
   "source": []
  }
 ],
 "metadata": {
  "kernelspec": {
   "display_name": "Python 3 (ipykernel)",
   "language": "python",
   "name": "python3"
  },
  "language_info": {
   "codemirror_mode": {
    "name": "ipython",
    "version": 3
   },
   "file_extension": ".py",
   "mimetype": "text/x-python",
   "name": "python",
   "nbconvert_exporter": "python",
   "pygments_lexer": "ipython3",
   "version": "3.9.13"
  }
 },
 "nbformat": 4,
 "nbformat_minor": 5
}
